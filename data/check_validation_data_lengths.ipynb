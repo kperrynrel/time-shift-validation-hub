{
 "cells": [
  {
   "cell_type": "code",
   "execution_count": 1,
   "id": "259c0196-21e0-421d-8c5b-ee6b75b39afe",
   "metadata": {},
   "outputs": [],
   "source": [
    "import pandas as pd\n",
    "import numpy as np\n",
    "from glob import glob\n",
    "from tqdm import tqdm"
   ]
  },
  {
   "cell_type": "code",
   "execution_count": 2,
   "id": "639af8ff-4e96-41e2-aaa2-c59a1cf357d8",
   "metadata": {},
   "outputs": [],
   "source": [
    "input_files = glob('file_data/*.csv')\n",
    "input_files.sort()\n",
    "output_files = glob('validation_data/*.csv')\n",
    "output_files.sort()"
   ]
  },
  {
   "cell_type": "code",
   "execution_count": 3,
   "id": "05029928-f484-4297-9df8-3a819d530ceb",
   "metadata": {},
   "outputs": [
    {
     "name": "stderr",
     "output_type": "stream",
     "text": [
      "100%|████████████████████████████████████████████████████████████████████████████████████████████████████████| 143/143 [07:35<00:00,  3.19s/it]\n"
     ]
    }
   ],
   "source": [
    "failures = []\n",
    "for _input, _output in tqdm(zip(input_files, output_files), total=len(input_files)):\n",
    "    load_in = pd.read_csv(_input, index_col=0, parse_dates=[0])\n",
    "    load_out = pd.read_csv(_output, index_col=0, parse_dates=[0])\n",
    "    len_in = len(np.unique(load_in.index.date))\n",
    "    len_out = len(load_out)\n",
    "    if len_in != len_out:\n",
    "        failures.append((_input, _output))"
   ]
  },
  {
   "cell_type": "code",
   "execution_count": 4,
   "id": "27bb7378-d125-4dd8-a724-9c8bfe9decf7",
   "metadata": {},
   "outputs": [
    {
     "data": {
      "text/plain": [
       "[('file_data/1422_inv1_ac_power.csv',\n",
       "  'validation_data/1422_inv1_ac_power.csv'),\n",
       " ('file_data/1422_inv1_ac_power_random_time_shifts.csv',\n",
       "  'validation_data/1422_inv1_ac_power_random_time_shifts.csv'),\n",
       " ('file_data/1422_inv2_ac_power.csv',\n",
       "  'validation_data/1422_inv2_ac_power.csv'),\n",
       " ('file_data/1423_inv1_ac_power.csv',\n",
       "  'validation_data/1423_inv1_ac_power.csv'),\n",
       " ('file_data/1423_inv1_ac_power_full_DST.csv',\n",
       "  'validation_data/1423_inv1_ac_power_full_DST.csv'),\n",
       " ('file_data/1423_inv2_ac_power.csv',\n",
       "  'validation_data/1423_inv2_ac_power.csv'),\n",
       " ('file_data/1423_inv2_ac_power_wrong_timezone.csv',\n",
       "  'validation_data/1423_inv2_ac_power_wrong_timezone.csv')]"
      ]
     },
     "execution_count": 4,
     "metadata": {},
     "output_type": "execute_result"
    }
   ],
   "source": [
    "failures"
   ]
  }
 ],
 "metadata": {
  "kernelspec": {
   "display_name": "Python 3 (ipykernel)",
   "language": "python",
   "name": "python3"
  },
  "language_info": {
   "codemirror_mode": {
    "name": "ipython",
    "version": 3
   },
   "file_extension": ".py",
   "mimetype": "text/x-python",
   "name": "python",
   "nbconvert_exporter": "python",
   "pygments_lexer": "ipython3",
   "version": "3.12.3"
  }
 },
 "nbformat": 4,
 "nbformat_minor": 5
}
