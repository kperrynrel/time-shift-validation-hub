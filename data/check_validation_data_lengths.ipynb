{
 "cells": [
  {
   "cell_type": "code",
   "execution_count": 23,
   "id": "259c0196-21e0-421d-8c5b-ee6b75b39afe",
   "metadata": {},
   "outputs": [],
   "source": [
    "import pandas as pd\n",
    "import numpy as np\n",
    "from glob import glob\n",
    "from tqdm import tqdm"
   ]
  },
  {
   "cell_type": "code",
   "execution_count": 4,
   "id": "639af8ff-4e96-41e2-aaa2-c59a1cf357d8",
   "metadata": {},
   "outputs": [],
   "source": [
    "input_files = glob('file_data/*.csv')\n",
    "input_files.sort()\n",
    "output_files = glob('validation_data/*.csv')\n",
    "output_files.sort()"
   ]
  },
  {
   "cell_type": "code",
   "execution_count": 10,
   "id": "a44d7c58-5277-417c-a70b-64ff90d65253",
   "metadata": {},
   "outputs": [
    {
     "data": {
      "text/html": [
       "<div>\n",
       "<style scoped>\n",
       "    .dataframe tbody tr th:only-of-type {\n",
       "        vertical-align: middle;\n",
       "    }\n",
       "\n",
       "    .dataframe tbody tr th {\n",
       "        vertical-align: top;\n",
       "    }\n",
       "\n",
       "    .dataframe thead th {\n",
       "        text-align: right;\n",
       "    }\n",
       "</style>\n",
       "<table border=\"1\" class=\"dataframe\">\n",
       "  <thead>\n",
       "    <tr style=\"text-align: right;\">\n",
       "      <th></th>\n",
       "      <th>gh_irradiance</th>\n",
       "    </tr>\n",
       "    <tr>\n",
       "      <th>measured_on</th>\n",
       "      <th></th>\n",
       "    </tr>\n",
       "  </thead>\n",
       "  <tbody>\n",
       "    <tr>\n",
       "      <th>2001-05-31 00:00:00-05:00</th>\n",
       "      <td>-0.4</td>\n",
       "    </tr>\n",
       "    <tr>\n",
       "      <th>2001-05-31 00:15:00-05:00</th>\n",
       "      <td>-0.4</td>\n",
       "    </tr>\n",
       "    <tr>\n",
       "      <th>2001-05-31 00:30:00-05:00</th>\n",
       "      <td>-0.4</td>\n",
       "    </tr>\n",
       "    <tr>\n",
       "      <th>2001-05-31 00:45:00-05:00</th>\n",
       "      <td>-0.4</td>\n",
       "    </tr>\n",
       "    <tr>\n",
       "      <th>2001-05-31 01:00:00-05:00</th>\n",
       "      <td>-0.4</td>\n",
       "    </tr>\n",
       "    <tr>\n",
       "      <th>...</th>\n",
       "      <td>...</td>\n",
       "    </tr>\n",
       "    <tr>\n",
       "      <th>2004-12-15 22:45:00-05:00</th>\n",
       "      <td>-0.4</td>\n",
       "    </tr>\n",
       "    <tr>\n",
       "      <th>2004-12-15 23:00:00-05:00</th>\n",
       "      <td>-0.4</td>\n",
       "    </tr>\n",
       "    <tr>\n",
       "      <th>2004-12-15 23:15:00-05:00</th>\n",
       "      <td>-0.4</td>\n",
       "    </tr>\n",
       "    <tr>\n",
       "      <th>2004-12-15 23:30:00-05:00</th>\n",
       "      <td>-0.4</td>\n",
       "    </tr>\n",
       "    <tr>\n",
       "      <th>2004-12-15 23:45:00-05:00</th>\n",
       "      <td>-0.4</td>\n",
       "    </tr>\n",
       "  </tbody>\n",
       "</table>\n",
       "<p>124320 rows × 1 columns</p>\n",
       "</div>"
      ],
      "text/plain": [
       "                           gh_irradiance\n",
       "measured_on                             \n",
       "2001-05-31 00:00:00-05:00           -0.4\n",
       "2001-05-31 00:15:00-05:00           -0.4\n",
       "2001-05-31 00:30:00-05:00           -0.4\n",
       "2001-05-31 00:45:00-05:00           -0.4\n",
       "2001-05-31 01:00:00-05:00           -0.4\n",
       "...                                  ...\n",
       "2004-12-15 22:45:00-05:00           -0.4\n",
       "2004-12-15 23:00:00-05:00           -0.4\n",
       "2004-12-15 23:15:00-05:00           -0.4\n",
       "2004-12-15 23:30:00-05:00           -0.4\n",
       "2004-12-15 23:45:00-05:00           -0.4\n",
       "\n",
       "[124320 rows x 1 columns]"
      ]
     },
     "execution_count": 10,
     "metadata": {},
     "output_type": "execute_result"
    }
   ],
   "source": [
    "fd = pd.read_csv(input_files[0], index_col=0, parse_dates=[0])\n",
    "fd"
   ]
  },
  {
   "cell_type": "code",
   "execution_count": 21,
   "id": "e005edcf-9d98-4cd3-b52c-0f1c55bc716f",
   "metadata": {},
   "outputs": [
    {
     "data": {
      "text/plain": [
       "1295"
      ]
     },
     "execution_count": 21,
     "metadata": {},
     "output_type": "execute_result"
    }
   ],
   "source": [
    "len(np.unique(fd.index.date))"
   ]
  },
  {
   "cell_type": "code",
   "execution_count": null,
   "id": "5f05d28f-8f1a-44b5-8ed8-8f284c1a11e5",
   "metadata": {},
   "outputs": [],
   "source": []
  },
  {
   "cell_type": "code",
   "execution_count": 20,
   "id": "d530da28-9913-49af-aefe-b36e2a11fb68",
   "metadata": {},
   "outputs": [
    {
     "data": {
      "text/html": [
       "<div>\n",
       "<style scoped>\n",
       "    .dataframe tbody tr th:only-of-type {\n",
       "        vertical-align: middle;\n",
       "    }\n",
       "\n",
       "    .dataframe tbody tr th {\n",
       "        vertical-align: top;\n",
       "    }\n",
       "\n",
       "    .dataframe thead th {\n",
       "        text-align: right;\n",
       "    }\n",
       "</style>\n",
       "<table border=\"1\" class=\"dataframe\">\n",
       "  <thead>\n",
       "    <tr style=\"text-align: right;\">\n",
       "      <th></th>\n",
       "      <th>0</th>\n",
       "    </tr>\n",
       "  </thead>\n",
       "  <tbody>\n",
       "    <tr>\n",
       "      <th>2001-05-31</th>\n",
       "      <td>0.0</td>\n",
       "    </tr>\n",
       "    <tr>\n",
       "      <th>2001-06-01</th>\n",
       "      <td>0.0</td>\n",
       "    </tr>\n",
       "    <tr>\n",
       "      <th>2001-06-02</th>\n",
       "      <td>0.0</td>\n",
       "    </tr>\n",
       "    <tr>\n",
       "      <th>2001-06-03</th>\n",
       "      <td>0.0</td>\n",
       "    </tr>\n",
       "    <tr>\n",
       "      <th>2001-06-04</th>\n",
       "      <td>0.0</td>\n",
       "    </tr>\n",
       "    <tr>\n",
       "      <th>...</th>\n",
       "      <td>...</td>\n",
       "    </tr>\n",
       "    <tr>\n",
       "      <th>2004-12-11</th>\n",
       "      <td>0.0</td>\n",
       "    </tr>\n",
       "    <tr>\n",
       "      <th>2004-12-12</th>\n",
       "      <td>0.0</td>\n",
       "    </tr>\n",
       "    <tr>\n",
       "      <th>2004-12-13</th>\n",
       "      <td>0.0</td>\n",
       "    </tr>\n",
       "    <tr>\n",
       "      <th>2004-12-14</th>\n",
       "      <td>0.0</td>\n",
       "    </tr>\n",
       "    <tr>\n",
       "      <th>2004-12-15</th>\n",
       "      <td>0.0</td>\n",
       "    </tr>\n",
       "  </tbody>\n",
       "</table>\n",
       "<p>1295 rows × 1 columns</p>\n",
       "</div>"
      ],
      "text/plain": [
       "              0\n",
       "2001-05-31  0.0\n",
       "2001-06-01  0.0\n",
       "2001-06-02  0.0\n",
       "2001-06-03  0.0\n",
       "2001-06-04  0.0\n",
       "...         ...\n",
       "2004-12-11  0.0\n",
       "2004-12-12  0.0\n",
       "2004-12-13  0.0\n",
       "2004-12-14  0.0\n",
       "2004-12-15  0.0\n",
       "\n",
       "[1295 rows x 1 columns]"
      ]
     },
     "execution_count": 20,
     "metadata": {},
     "output_type": "execute_result"
    }
   ],
   "source": [
    "fo = pd.read_csv(output_files[0], index_col=0, parse_dates=[0])\n",
    "fo"
   ]
  },
  {
   "cell_type": "code",
   "execution_count": 22,
   "id": "fbb36ff8-c1d4-4ea8-86f4-03736f0b6166",
   "metadata": {},
   "outputs": [
    {
     "data": {
      "text/plain": [
       "1295"
      ]
     },
     "execution_count": 22,
     "metadata": {},
     "output_type": "execute_result"
    }
   ],
   "source": [
    "len(fo)"
   ]
  },
  {
   "cell_type": "code",
   "execution_count": 26,
   "id": "05029928-f484-4297-9df8-3a819d530ceb",
   "metadata": {},
   "outputs": [
    {
     "name": "stderr",
     "output_type": "stream",
     "text": [
      "100%|██████████████████████████████████████████████████████████████████████████████████████████████████████| 143/143 [07:43<00:00,  3.24s/it]\n"
     ]
    }
   ],
   "source": [
    "failures = []\n",
    "for _input, _output in tqdm(zip(input_files, output_files), total=len(input_files)):\n",
    "    load_in = pd.read_csv(_input, index_col=0, parse_dates=[0])\n",
    "    load_out = pd.read_csv(_output, index_col=0, parse_dates=[0])\n",
    "    len_in = len(np.unique(load_in.index.date))\n",
    "    len_out = len(load_out)\n",
    "    if len_in != len_out:\n",
    "        failures.append(_output)"
   ]
  },
  {
   "cell_type": "code",
   "execution_count": 27,
   "id": "27bb7378-d125-4dd8-a724-9c8bfe9decf7",
   "metadata": {},
   "outputs": [
    {
     "data": {
      "text/plain": [
       "['validation_data/1422_inv1_ac_power.csv',\n",
       " 'validation_data/1422_inv1_ac_power_random_time_shifts.csv',\n",
       " 'validation_data/1422_inv2_ac_power.csv',\n",
       " 'validation_data/1423_inv1_ac_power.csv',\n",
       " 'validation_data/1423_inv1_ac_power_full_DST.csv',\n",
       " 'validation_data/1423_inv2_ac_power.csv',\n",
       " 'validation_data/1423_inv2_ac_power_wrong_timezone.csv']"
      ]
     },
     "execution_count": 27,
     "metadata": {},
     "output_type": "execute_result"
    }
   ],
   "source": [
    "failures"
   ]
  }
 ],
 "metadata": {
  "kernelspec": {
   "display_name": "Python 3 (ipykernel)",
   "language": "python",
   "name": "python3"
  },
  "language_info": {
   "codemirror_mode": {
    "name": "ipython",
    "version": 3
   },
   "file_extension": ".py",
   "mimetype": "text/x-python",
   "name": "python",
   "nbconvert_exporter": "python",
   "pygments_lexer": "ipython3",
   "version": "3.12.3"
  }
 },
 "nbformat": 4,
 "nbformat_minor": 5
}
